{
  "nbformat": 4,
  "nbformat_minor": 0,
  "metadata": {
    "colab": {
      "name": "Wind.ipynb",
      "version": "0.3.2",
      "provenance": [],
      "include_colab_link": true
    },
    "kernelspec": {
      "name": "python3",
      "display_name": "Python 3"
    }
  },
  "cells": [
    {
      "cell_type": "markdown",
      "metadata": {
        "id": "view-in-github",
        "colab_type": "text"
      },
      "source": [
        "[View in Colaboratory](https://colab.research.google.com/github/blamassa/wind_analysis/blob/master/Wind.ipynb)"
      ]
    },
    {
      "metadata": {
        "id": "URfYNnhzOuPh",
        "colab_type": "text"
      },
      "cell_type": "markdown",
      "source": [
        "# Potencial Eólico da Palestina"
      ]
    },
    {
      "metadata": {
        "id": "Ngmk36bis5Rl",
        "colab_type": "code",
        "colab": {}
      },
      "cell_type": "code",
      "source": [
        "import pandas as pd\n",
        "import numpy as np\n",
        "import matplotlib.pyplot as plt"
      ],
      "execution_count": 0,
      "outputs": []
    },
    {
      "metadata": {
        "id": "F85PFSR2tGqx",
        "colab_type": "code",
        "colab": {}
      },
      "cell_type": "code",
      "source": [
        "lista = [\n",
        "    'station_no lon lat h_m mean_ms std_ms',\n",
        "    '400800 33.42 36.52 609 4.47 3.10',\n",
        "    '401530 32.97 35.50 934 4.77 2.39',\n",
        "    '401790 32.00 34.82 35 2.78 1.62',\n",
        "    '401800 32.00 34.90 49 2.97 1.56',\n",
        "    '401830 31.77 35.22 815 3.24 1.51',\n",
        "    '402550 32.55 35.85 616 3.15 1.87',\n",
        "    '402600 32.20 37.13 674 5.22 3.18',\n",
        "    '402650 32.37 36.25 683 3.83 2.44',\n",
        "    '402700 31.98 35.98 779 3.39 2.03',\n",
        "    '402720 31.72 35.98 722 4.80 2.92',\n",
        "    '403600 31.40 37.28 504 4.39 2.88',\n",
        "    '623370 31.08 33.82 32 2.45 1.49',\n",
        "    'JEN00001 35.30 32.47 178 3.80 2.61',\n",
        "    'TUL00002 35.02 32.32 83 3.24 2.01',    \n",
        "    'NAB00003 35.25 32.22 570 3.24 1.71',\n",
        "    'RAM00004 35.20 31.88 856 5.64 3.09',    \n",
        "    'JER00005 35.45 31.85 -260 2.71 1.73',\n",
        "    'BET00007 35.20 31.70 773 3.24 1.86',    \n",
        "    'HEB00008 35.10 31.53 1005 4.69 2.39',\n",
        "    'DUM0009 35.37 32.05 595 3.68 2.60'   \n",
        "    \n",
        "]"
      ],
      "execution_count": 0,
      "outputs": []
    },
    {
      "metadata": {
        "id": "yfO98FH-uklf",
        "colab_type": "code",
        "colab": {}
      },
      "cell_type": "code",
      "source": [
        "lista_lista = []\n",
        "\n",
        "for i in lista:\n",
        "  lista_lista.append(i.split(' '))"
      ],
      "execution_count": 0,
      "outputs": []
    },
    {
      "metadata": {
        "id": "c-_mgzzVv3zw",
        "colab_type": "code",
        "colab": {}
      },
      "cell_type": "code",
      "source": [
        "df = pd.DataFrame(lista_lista)\n",
        "header = df.iloc[0]\n",
        "df = df[1:]\n",
        "df = df.rename(columns = header)\n",
        "df[['lon','lat','h_m','mean_ms','std_ms']] = df[['lon','lat','h_m','mean_ms','std_ms']].apply(pd.to_numeric)\n",
        "#df = df[12:-1] #tirando os que nao estao em territorio palestino"
      ],
      "execution_count": 0,
      "outputs": []
    },
    {
      "metadata": {
        "id": "cD9SE_SuOZpr",
        "colab_type": "code",
        "colab": {
          "base_uri": "https://localhost:8080/",
          "height": 669
        },
        "outputId": "4e9b83c3-47fd-45cf-b43b-8bca00e983ef"
      },
      "cell_type": "code",
      "source": [
        "df"
      ],
      "execution_count": 5,
      "outputs": [
        {
          "output_type": "execute_result",
          "data": {
            "text/html": [
              "<div>\n",
              "<style scoped>\n",
              "    .dataframe tbody tr th:only-of-type {\n",
              "        vertical-align: middle;\n",
              "    }\n",
              "\n",
              "    .dataframe tbody tr th {\n",
              "        vertical-align: top;\n",
              "    }\n",
              "\n",
              "    .dataframe thead th {\n",
              "        text-align: right;\n",
              "    }\n",
              "</style>\n",
              "<table border=\"1\" class=\"dataframe\">\n",
              "  <thead>\n",
              "    <tr style=\"text-align: right;\">\n",
              "      <th></th>\n",
              "      <th>station_no</th>\n",
              "      <th>lon</th>\n",
              "      <th>lat</th>\n",
              "      <th>h_m</th>\n",
              "      <th>mean_ms</th>\n",
              "      <th>std_ms</th>\n",
              "    </tr>\n",
              "  </thead>\n",
              "  <tbody>\n",
              "    <tr>\n",
              "      <th>1</th>\n",
              "      <td>400800</td>\n",
              "      <td>33.42</td>\n",
              "      <td>36.52</td>\n",
              "      <td>609</td>\n",
              "      <td>4.47</td>\n",
              "      <td>3.10</td>\n",
              "    </tr>\n",
              "    <tr>\n",
              "      <th>2</th>\n",
              "      <td>401530</td>\n",
              "      <td>32.97</td>\n",
              "      <td>35.50</td>\n",
              "      <td>934</td>\n",
              "      <td>4.77</td>\n",
              "      <td>2.39</td>\n",
              "    </tr>\n",
              "    <tr>\n",
              "      <th>3</th>\n",
              "      <td>401790</td>\n",
              "      <td>32.00</td>\n",
              "      <td>34.82</td>\n",
              "      <td>35</td>\n",
              "      <td>2.78</td>\n",
              "      <td>1.62</td>\n",
              "    </tr>\n",
              "    <tr>\n",
              "      <th>4</th>\n",
              "      <td>401800</td>\n",
              "      <td>32.00</td>\n",
              "      <td>34.90</td>\n",
              "      <td>49</td>\n",
              "      <td>2.97</td>\n",
              "      <td>1.56</td>\n",
              "    </tr>\n",
              "    <tr>\n",
              "      <th>5</th>\n",
              "      <td>401830</td>\n",
              "      <td>31.77</td>\n",
              "      <td>35.22</td>\n",
              "      <td>815</td>\n",
              "      <td>3.24</td>\n",
              "      <td>1.51</td>\n",
              "    </tr>\n",
              "    <tr>\n",
              "      <th>6</th>\n",
              "      <td>402550</td>\n",
              "      <td>32.55</td>\n",
              "      <td>35.85</td>\n",
              "      <td>616</td>\n",
              "      <td>3.15</td>\n",
              "      <td>1.87</td>\n",
              "    </tr>\n",
              "    <tr>\n",
              "      <th>7</th>\n",
              "      <td>402600</td>\n",
              "      <td>32.20</td>\n",
              "      <td>37.13</td>\n",
              "      <td>674</td>\n",
              "      <td>5.22</td>\n",
              "      <td>3.18</td>\n",
              "    </tr>\n",
              "    <tr>\n",
              "      <th>8</th>\n",
              "      <td>402650</td>\n",
              "      <td>32.37</td>\n",
              "      <td>36.25</td>\n",
              "      <td>683</td>\n",
              "      <td>3.83</td>\n",
              "      <td>2.44</td>\n",
              "    </tr>\n",
              "    <tr>\n",
              "      <th>9</th>\n",
              "      <td>402700</td>\n",
              "      <td>31.98</td>\n",
              "      <td>35.98</td>\n",
              "      <td>779</td>\n",
              "      <td>3.39</td>\n",
              "      <td>2.03</td>\n",
              "    </tr>\n",
              "    <tr>\n",
              "      <th>10</th>\n",
              "      <td>402720</td>\n",
              "      <td>31.72</td>\n",
              "      <td>35.98</td>\n",
              "      <td>722</td>\n",
              "      <td>4.80</td>\n",
              "      <td>2.92</td>\n",
              "    </tr>\n",
              "    <tr>\n",
              "      <th>11</th>\n",
              "      <td>403600</td>\n",
              "      <td>31.40</td>\n",
              "      <td>37.28</td>\n",
              "      <td>504</td>\n",
              "      <td>4.39</td>\n",
              "      <td>2.88</td>\n",
              "    </tr>\n",
              "    <tr>\n",
              "      <th>12</th>\n",
              "      <td>623370</td>\n",
              "      <td>31.08</td>\n",
              "      <td>33.82</td>\n",
              "      <td>32</td>\n",
              "      <td>2.45</td>\n",
              "      <td>1.49</td>\n",
              "    </tr>\n",
              "    <tr>\n",
              "      <th>13</th>\n",
              "      <td>JEN00001</td>\n",
              "      <td>35.30</td>\n",
              "      <td>32.47</td>\n",
              "      <td>178</td>\n",
              "      <td>3.80</td>\n",
              "      <td>2.61</td>\n",
              "    </tr>\n",
              "    <tr>\n",
              "      <th>14</th>\n",
              "      <td>TUL00002</td>\n",
              "      <td>35.02</td>\n",
              "      <td>32.32</td>\n",
              "      <td>83</td>\n",
              "      <td>3.24</td>\n",
              "      <td>2.01</td>\n",
              "    </tr>\n",
              "    <tr>\n",
              "      <th>15</th>\n",
              "      <td>NAB00003</td>\n",
              "      <td>35.25</td>\n",
              "      <td>32.22</td>\n",
              "      <td>570</td>\n",
              "      <td>3.24</td>\n",
              "      <td>1.71</td>\n",
              "    </tr>\n",
              "    <tr>\n",
              "      <th>16</th>\n",
              "      <td>RAM00004</td>\n",
              "      <td>35.20</td>\n",
              "      <td>31.88</td>\n",
              "      <td>856</td>\n",
              "      <td>5.64</td>\n",
              "      <td>3.09</td>\n",
              "    </tr>\n",
              "    <tr>\n",
              "      <th>17</th>\n",
              "      <td>JER00005</td>\n",
              "      <td>35.45</td>\n",
              "      <td>31.85</td>\n",
              "      <td>-260</td>\n",
              "      <td>2.71</td>\n",
              "      <td>1.73</td>\n",
              "    </tr>\n",
              "    <tr>\n",
              "      <th>18</th>\n",
              "      <td>BET00007</td>\n",
              "      <td>35.20</td>\n",
              "      <td>31.70</td>\n",
              "      <td>773</td>\n",
              "      <td>3.24</td>\n",
              "      <td>1.86</td>\n",
              "    </tr>\n",
              "    <tr>\n",
              "      <th>19</th>\n",
              "      <td>HEB00008</td>\n",
              "      <td>35.10</td>\n",
              "      <td>31.53</td>\n",
              "      <td>1005</td>\n",
              "      <td>4.69</td>\n",
              "      <td>2.39</td>\n",
              "    </tr>\n",
              "    <tr>\n",
              "      <th>20</th>\n",
              "      <td>DUM0009</td>\n",
              "      <td>35.37</td>\n",
              "      <td>32.05</td>\n",
              "      <td>595</td>\n",
              "      <td>3.68</td>\n",
              "      <td>2.60</td>\n",
              "    </tr>\n",
              "  </tbody>\n",
              "</table>\n",
              "</div>"
            ],
            "text/plain": [
              "   station_no    lon    lat   h_m  mean_ms  std_ms\n",
              "1      400800  33.42  36.52   609     4.47    3.10\n",
              "2      401530  32.97  35.50   934     4.77    2.39\n",
              "3      401790  32.00  34.82    35     2.78    1.62\n",
              "4      401800  32.00  34.90    49     2.97    1.56\n",
              "5      401830  31.77  35.22   815     3.24    1.51\n",
              "6      402550  32.55  35.85   616     3.15    1.87\n",
              "7      402600  32.20  37.13   674     5.22    3.18\n",
              "8      402650  32.37  36.25   683     3.83    2.44\n",
              "9      402700  31.98  35.98   779     3.39    2.03\n",
              "10     402720  31.72  35.98   722     4.80    2.92\n",
              "11     403600  31.40  37.28   504     4.39    2.88\n",
              "12     623370  31.08  33.82    32     2.45    1.49\n",
              "13   JEN00001  35.30  32.47   178     3.80    2.61\n",
              "14   TUL00002  35.02  32.32    83     3.24    2.01\n",
              "15   NAB00003  35.25  32.22   570     3.24    1.71\n",
              "16   RAM00004  35.20  31.88   856     5.64    3.09\n",
              "17   JER00005  35.45  31.85  -260     2.71    1.73\n",
              "18   BET00007  35.20  31.70   773     3.24    1.86\n",
              "19   HEB00008  35.10  31.53  1005     4.69    2.39\n",
              "20    DUM0009  35.37  32.05   595     3.68    2.60"
            ]
          },
          "metadata": {
            "tags": []
          },
          "execution_count": 5
        }
      ]
    },
    {
      "metadata": {
        "id": "t8wllO2DO4Ko",
        "colab_type": "text"
      },
      "cell_type": "markdown",
      "source": [
        "## Perfil vertical do vento\n",
        "### Classificando o relevo da região\n",
        "\n"
      ]
    },
    {
      "metadata": {
        "id": "kBlSQiUyRIoY",
        "colab_type": "text"
      },
      "cell_type": "markdown",
      "source": [
        "| Terreno | z_o|\n",
        "|--------------|----|\n",
        "| Cidades, Florestas | 0.7 |\n",
        "| Subúrbios | 0.3 |\n",
        "| Vilarejos | 0.1 |\n",
        "| Poucas arvores | 0.03 |\n",
        "| Planicies gramadas | 0.01 |\n",
        "| Deserto plano | 0.001 |\n",
        "\n"
      ]
    },
    {
      "metadata": {
        "id": "o3hKJHErO923",
        "colab_type": "code",
        "colab": {}
      },
      "cell_type": "code",
      "source": [
        "rugosidades = [\n",
        "    0.3, #suburbio\n",
        "    0.1, # vilarejo\n",
        "    0.7, # cidade\n",
        "    0.3, #suburbio\n",
        "    0.001, #deserto plano\n",
        "    0.7, # cidade\n",
        "    0.3 #suburbio\n",
        "]"
      ],
      "execution_count": 0,
      "outputs": []
    },
    {
      "metadata": {
        "id": "d_ZVCim5R-WK",
        "colab_type": "text"
      },
      "cell_type": "markdown",
      "source": [
        "### Lei logarítmica\n",
        "\n",
        "$$v(h) = v_{ref} \\frac{ln(h/z_o)}{ln(h_{ref}/z_o)}$$\n",
        "\n",
        "onde $h_{ref}$ representa a altura de referência da medida da velocidade, $v_{ref}$ a velocidade\n",
        "nesta altura de referência e $z_o$ é o comprimento de rugosidade.\n",
        "http://www.sbmet.org.br/cbmet2010/artigos/474_65917.pdf\n"
      ]
    },
    {
      "metadata": {
        "id": "oA3BRuF9S8ak",
        "colab_type": "code",
        "colab": {}
      },
      "cell_type": "code",
      "source": [
        "def lei_log(v_ref,h,z_o,h_ref = 10):\n",
        "  return v_ref*(np.log(h/z_o)/np.log(h_ref/z_o))"
      ],
      "execution_count": 0,
      "outputs": []
    },
    {
      "metadata": {
        "id": "IT8GB-JBUTMM",
        "colab_type": "code",
        "colab": {
          "base_uri": "https://localhost:8080/",
          "height": 266
        },
        "outputId": "2b207b02-93c6-4e56-f2f9-55302fd74102"
      },
      "cell_type": "code",
      "source": [
        "df_leilog = pd.DataFrame()\n",
        "df_leilog[['station','lon','lat','h_m','v_10m']] = df[['station_no','lon','lat','h_m','mean_ms']][12:-1].reset_index(drop=True)\n",
        "pd_rugo = pd.DataFrame(rugosidades)\n",
        "df_leilog['z_o'] = pd_rugo\n",
        "df_leilog"
      ],
      "execution_count": 8,
      "outputs": [
        {
          "output_type": "execute_result",
          "data": {
            "text/html": [
              "<div>\n",
              "<style scoped>\n",
              "    .dataframe tbody tr th:only-of-type {\n",
              "        vertical-align: middle;\n",
              "    }\n",
              "\n",
              "    .dataframe tbody tr th {\n",
              "        vertical-align: top;\n",
              "    }\n",
              "\n",
              "    .dataframe thead th {\n",
              "        text-align: right;\n",
              "    }\n",
              "</style>\n",
              "<table border=\"1\" class=\"dataframe\">\n",
              "  <thead>\n",
              "    <tr style=\"text-align: right;\">\n",
              "      <th></th>\n",
              "      <th>station</th>\n",
              "      <th>lon</th>\n",
              "      <th>lat</th>\n",
              "      <th>h_m</th>\n",
              "      <th>v_10m</th>\n",
              "      <th>z_o</th>\n",
              "    </tr>\n",
              "  </thead>\n",
              "  <tbody>\n",
              "    <tr>\n",
              "      <th>0</th>\n",
              "      <td>JEN00001</td>\n",
              "      <td>35.30</td>\n",
              "      <td>32.47</td>\n",
              "      <td>178</td>\n",
              "      <td>3.80</td>\n",
              "      <td>0.300</td>\n",
              "    </tr>\n",
              "    <tr>\n",
              "      <th>1</th>\n",
              "      <td>TUL00002</td>\n",
              "      <td>35.02</td>\n",
              "      <td>32.32</td>\n",
              "      <td>83</td>\n",
              "      <td>3.24</td>\n",
              "      <td>0.100</td>\n",
              "    </tr>\n",
              "    <tr>\n",
              "      <th>2</th>\n",
              "      <td>NAB00003</td>\n",
              "      <td>35.25</td>\n",
              "      <td>32.22</td>\n",
              "      <td>570</td>\n",
              "      <td>3.24</td>\n",
              "      <td>0.700</td>\n",
              "    </tr>\n",
              "    <tr>\n",
              "      <th>3</th>\n",
              "      <td>RAM00004</td>\n",
              "      <td>35.20</td>\n",
              "      <td>31.88</td>\n",
              "      <td>856</td>\n",
              "      <td>5.64</td>\n",
              "      <td>0.300</td>\n",
              "    </tr>\n",
              "    <tr>\n",
              "      <th>4</th>\n",
              "      <td>JER00005</td>\n",
              "      <td>35.45</td>\n",
              "      <td>31.85</td>\n",
              "      <td>-260</td>\n",
              "      <td>2.71</td>\n",
              "      <td>0.001</td>\n",
              "    </tr>\n",
              "    <tr>\n",
              "      <th>5</th>\n",
              "      <td>BET00007</td>\n",
              "      <td>35.20</td>\n",
              "      <td>31.70</td>\n",
              "      <td>773</td>\n",
              "      <td>3.24</td>\n",
              "      <td>0.700</td>\n",
              "    </tr>\n",
              "    <tr>\n",
              "      <th>6</th>\n",
              "      <td>HEB00008</td>\n",
              "      <td>35.10</td>\n",
              "      <td>31.53</td>\n",
              "      <td>1005</td>\n",
              "      <td>4.69</td>\n",
              "      <td>0.300</td>\n",
              "    </tr>\n",
              "  </tbody>\n",
              "</table>\n",
              "</div>"
            ],
            "text/plain": [
              "    station    lon    lat   h_m  v_10m    z_o\n",
              "0  JEN00001  35.30  32.47   178   3.80  0.300\n",
              "1  TUL00002  35.02  32.32    83   3.24  0.100\n",
              "2  NAB00003  35.25  32.22   570   3.24  0.700\n",
              "3  RAM00004  35.20  31.88   856   5.64  0.300\n",
              "4  JER00005  35.45  31.85  -260   2.71  0.001\n",
              "5  BET00007  35.20  31.70   773   3.24  0.700\n",
              "6  HEB00008  35.10  31.53  1005   4.69  0.300"
            ]
          },
          "metadata": {
            "tags": []
          },
          "execution_count": 8
        }
      ]
    },
    {
      "metadata": {
        "id": "60Z4zXNZUVlu",
        "colab_type": "text"
      },
      "cell_type": "markdown",
      "source": [
        "#### Extrapolando para 30, 50, 80, e 100 m"
      ]
    },
    {
      "metadata": {
        "id": "5GC9Ah0aUU4n",
        "colab_type": "code",
        "colab": {}
      },
      "cell_type": "code",
      "source": [
        "df_leilog['v_30m'] = lei_log(df_leilog['v_10m'],30,df_leilog['z_o'])\n",
        "df_leilog['v_50m'] = lei_log(df_leilog['v_10m'],50,df_leilog['z_o'])\n",
        "df_leilog['v_80m'] = lei_log(df_leilog['v_10m'],80,df_leilog['z_o'])\n",
        "df_leilog['v_100m'] = lei_log(df_leilog['v_10m'],100,df_leilog['z_o'])"
      ],
      "execution_count": 0,
      "outputs": []
    },
    {
      "metadata": {
        "id": "_ze_fmUBW9sk",
        "colab_type": "code",
        "colab": {
          "base_uri": "https://localhost:8080/",
          "height": 266
        },
        "outputId": "9b871f2b-ba76-499e-f7a0-70bfbedf829c"
      },
      "cell_type": "code",
      "source": [
        "df_leilog"
      ],
      "execution_count": 10,
      "outputs": [
        {
          "output_type": "execute_result",
          "data": {
            "text/html": [
              "<div>\n",
              "<style scoped>\n",
              "    .dataframe tbody tr th:only-of-type {\n",
              "        vertical-align: middle;\n",
              "    }\n",
              "\n",
              "    .dataframe tbody tr th {\n",
              "        vertical-align: top;\n",
              "    }\n",
              "\n",
              "    .dataframe thead th {\n",
              "        text-align: right;\n",
              "    }\n",
              "</style>\n",
              "<table border=\"1\" class=\"dataframe\">\n",
              "  <thead>\n",
              "    <tr style=\"text-align: right;\">\n",
              "      <th></th>\n",
              "      <th>station</th>\n",
              "      <th>lon</th>\n",
              "      <th>lat</th>\n",
              "      <th>h_m</th>\n",
              "      <th>v_10m</th>\n",
              "      <th>z_o</th>\n",
              "      <th>v_30m</th>\n",
              "      <th>v_50m</th>\n",
              "      <th>v_80m</th>\n",
              "      <th>v_100m</th>\n",
              "    </tr>\n",
              "  </thead>\n",
              "  <tbody>\n",
              "    <tr>\n",
              "      <th>0</th>\n",
              "      <td>JEN00001</td>\n",
              "      <td>35.30</td>\n",
              "      <td>32.47</td>\n",
              "      <td>178</td>\n",
              "      <td>3.80</td>\n",
              "      <td>0.300</td>\n",
              "      <td>4.990548</td>\n",
              "      <td>5.544122</td>\n",
              "      <td>6.053457</td>\n",
              "      <td>6.295274</td>\n",
              "    </tr>\n",
              "    <tr>\n",
              "      <th>1</th>\n",
              "      <td>TUL00002</td>\n",
              "      <td>35.02</td>\n",
              "      <td>32.32</td>\n",
              "      <td>83</td>\n",
              "      <td>3.24</td>\n",
              "      <td>0.100</td>\n",
              "      <td>4.012936</td>\n",
              "      <td>4.372331</td>\n",
              "      <td>4.703006</td>\n",
              "      <td>4.860000</td>\n",
              "    </tr>\n",
              "    <tr>\n",
              "      <th>2</th>\n",
              "      <td>NAB00003</td>\n",
              "      <td>35.25</td>\n",
              "      <td>32.22</td>\n",
              "      <td>570</td>\n",
              "      <td>3.24</td>\n",
              "      <td>0.700</td>\n",
              "      <td>4.578532</td>\n",
              "      <td>5.200913</td>\n",
              "      <td>5.773558</td>\n",
              "      <td>6.045433</td>\n",
              "    </tr>\n",
              "    <tr>\n",
              "      <th>3</th>\n",
              "      <td>RAM00004</td>\n",
              "      <td>35.20</td>\n",
              "      <td>31.88</td>\n",
              "      <td>856</td>\n",
              "      <td>5.64</td>\n",
              "      <td>0.300</td>\n",
              "      <td>7.407024</td>\n",
              "      <td>8.228644</td>\n",
              "      <td>8.984605</td>\n",
              "      <td>9.343512</td>\n",
              "    </tr>\n",
              "    <tr>\n",
              "      <th>4</th>\n",
              "      <td>JER00005</td>\n",
              "      <td>35.45</td>\n",
              "      <td>31.85</td>\n",
              "      <td>-260</td>\n",
              "      <td>2.71</td>\n",
              "      <td>0.001</td>\n",
              "      <td>3.033250</td>\n",
              "      <td>3.183552</td>\n",
              "      <td>3.321843</td>\n",
              "      <td>3.387500</td>\n",
              "    </tr>\n",
              "    <tr>\n",
              "      <th>5</th>\n",
              "      <td>BET00007</td>\n",
              "      <td>35.20</td>\n",
              "      <td>31.70</td>\n",
              "      <td>773</td>\n",
              "      <td>3.24</td>\n",
              "      <td>0.700</td>\n",
              "      <td>4.578532</td>\n",
              "      <td>5.200913</td>\n",
              "      <td>5.773558</td>\n",
              "      <td>6.045433</td>\n",
              "    </tr>\n",
              "    <tr>\n",
              "      <th>6</th>\n",
              "      <td>HEB00008</td>\n",
              "      <td>35.10</td>\n",
              "      <td>31.53</td>\n",
              "      <td>1005</td>\n",
              "      <td>4.69</td>\n",
              "      <td>0.300</td>\n",
              "      <td>6.159387</td>\n",
              "      <td>6.842613</td>\n",
              "      <td>7.471240</td>\n",
              "      <td>7.769694</td>\n",
              "    </tr>\n",
              "  </tbody>\n",
              "</table>\n",
              "</div>"
            ],
            "text/plain": [
              "    station    lon    lat   h_m  v_10m    z_o     v_30m     v_50m     v_80m  \\\n",
              "0  JEN00001  35.30  32.47   178   3.80  0.300  4.990548  5.544122  6.053457   \n",
              "1  TUL00002  35.02  32.32    83   3.24  0.100  4.012936  4.372331  4.703006   \n",
              "2  NAB00003  35.25  32.22   570   3.24  0.700  4.578532  5.200913  5.773558   \n",
              "3  RAM00004  35.20  31.88   856   5.64  0.300  7.407024  8.228644  8.984605   \n",
              "4  JER00005  35.45  31.85  -260   2.71  0.001  3.033250  3.183552  3.321843   \n",
              "5  BET00007  35.20  31.70   773   3.24  0.700  4.578532  5.200913  5.773558   \n",
              "6  HEB00008  35.10  31.53  1005   4.69  0.300  6.159387  6.842613  7.471240   \n",
              "\n",
              "     v_100m  \n",
              "0  6.295274  \n",
              "1  4.860000  \n",
              "2  6.045433  \n",
              "3  9.343512  \n",
              "4  3.387500  \n",
              "5  6.045433  \n",
              "6  7.769694  "
            ]
          },
          "metadata": {
            "tags": []
          },
          "execution_count": 10
        }
      ]
    },
    {
      "metadata": {
        "id": "aNnvapbOXIWS",
        "colab_type": "text"
      },
      "cell_type": "markdown",
      "source": [
        "## Densidade de potencial eólico\n",
        "$$ \\frac{P_{eol}}{A} =  \\rho \\cdot \\frac{v^3}{2}$$\n",
        "Onde $\\rho$ é a densidade do ar no Local. Padrão = 1.225"
      ]
    },
    {
      "metadata": {
        "id": "beAIMG-LXpZZ",
        "colab_type": "code",
        "colab": {}
      },
      "cell_type": "code",
      "source": [
        "def potEolico(v, rho=1.225):\n",
        "  return rho/2 * v**3"
      ],
      "execution_count": 0,
      "outputs": []
    },
    {
      "metadata": {
        "id": "MQG9y9sSYC-z",
        "colab_type": "code",
        "colab": {}
      },
      "cell_type": "code",
      "source": [
        "df_leilog['pot_10m'] = potEolico(df_leilog['v_10m'])\n",
        "df_leilog['pot_30m'] = potEolico(df_leilog['v_30m'])\n",
        "df_leilog['pot_50m'] = potEolico(df_leilog['v_50m'])\n",
        "df_leilog['pot_80m'] = potEolico(df_leilog['v_80m'])\n",
        "df_leilog['pot_100m'] = potEolico(df_leilog['v_100m'])"
      ],
      "execution_count": 0,
      "outputs": []
    },
    {
      "metadata": {
        "id": "vHRJ-MLbYZr7",
        "colab_type": "code",
        "colab": {
          "base_uri": "https://localhost:8080/",
          "height": 266
        },
        "outputId": "0a63c3c8-2ed0-4e03-c984-bf87df55a890"
      },
      "cell_type": "code",
      "source": [
        "df_leilog"
      ],
      "execution_count": 13,
      "outputs": [
        {
          "output_type": "execute_result",
          "data": {
            "text/html": [
              "<div>\n",
              "<style scoped>\n",
              "    .dataframe tbody tr th:only-of-type {\n",
              "        vertical-align: middle;\n",
              "    }\n",
              "\n",
              "    .dataframe tbody tr th {\n",
              "        vertical-align: top;\n",
              "    }\n",
              "\n",
              "    .dataframe thead th {\n",
              "        text-align: right;\n",
              "    }\n",
              "</style>\n",
              "<table border=\"1\" class=\"dataframe\">\n",
              "  <thead>\n",
              "    <tr style=\"text-align: right;\">\n",
              "      <th></th>\n",
              "      <th>station</th>\n",
              "      <th>lon</th>\n",
              "      <th>lat</th>\n",
              "      <th>h_m</th>\n",
              "      <th>v_10m</th>\n",
              "      <th>z_o</th>\n",
              "      <th>v_30m</th>\n",
              "      <th>v_50m</th>\n",
              "      <th>v_80m</th>\n",
              "      <th>v_100m</th>\n",
              "      <th>pot_10m</th>\n",
              "      <th>pot_30m</th>\n",
              "      <th>pot_50m</th>\n",
              "      <th>pot_80m</th>\n",
              "      <th>pot_100m</th>\n",
              "    </tr>\n",
              "  </thead>\n",
              "  <tbody>\n",
              "    <tr>\n",
              "      <th>0</th>\n",
              "      <td>JEN00001</td>\n",
              "      <td>35.30</td>\n",
              "      <td>32.47</td>\n",
              "      <td>178</td>\n",
              "      <td>3.80</td>\n",
              "      <td>0.300</td>\n",
              "      <td>4.990548</td>\n",
              "      <td>5.544122</td>\n",
              "      <td>6.053457</td>\n",
              "      <td>6.295274</td>\n",
              "      <td>33.609100</td>\n",
              "      <td>76.129135</td>\n",
              "      <td>104.376897</td>\n",
              "      <td>135.867788</td>\n",
              "      <td>152.809390</td>\n",
              "    </tr>\n",
              "    <tr>\n",
              "      <th>1</th>\n",
              "      <td>TUL00002</td>\n",
              "      <td>35.02</td>\n",
              "      <td>32.32</td>\n",
              "      <td>83</td>\n",
              "      <td>3.24</td>\n",
              "      <td>0.100</td>\n",
              "      <td>4.012936</td>\n",
              "      <td>4.372331</td>\n",
              "      <td>4.703006</td>\n",
              "      <td>4.860000</td>\n",
              "      <td>20.832487</td>\n",
              "      <td>39.581562</td>\n",
              "      <td>51.197094</td>\n",
              "      <td>63.713671</td>\n",
              "      <td>70.309644</td>\n",
              "    </tr>\n",
              "    <tr>\n",
              "      <th>2</th>\n",
              "      <td>NAB00003</td>\n",
              "      <td>35.25</td>\n",
              "      <td>32.22</td>\n",
              "      <td>570</td>\n",
              "      <td>3.24</td>\n",
              "      <td>0.700</td>\n",
              "      <td>4.578532</td>\n",
              "      <td>5.200913</td>\n",
              "      <td>5.773558</td>\n",
              "      <td>6.045433</td>\n",
              "      <td>20.832487</td>\n",
              "      <td>58.787469</td>\n",
              "      <td>86.167795</td>\n",
              "      <td>117.879092</td>\n",
              "      <td>135.328204</td>\n",
              "    </tr>\n",
              "    <tr>\n",
              "      <th>3</th>\n",
              "      <td>RAM00004</td>\n",
              "      <td>35.20</td>\n",
              "      <td>31.88</td>\n",
              "      <td>856</td>\n",
              "      <td>5.64</td>\n",
              "      <td>0.300</td>\n",
              "      <td>7.407024</td>\n",
              "      <td>8.228644</td>\n",
              "      <td>8.984605</td>\n",
              "      <td>9.343512</td>\n",
              "      <td>109.886263</td>\n",
              "      <td>248.907175</td>\n",
              "      <td>341.264335</td>\n",
              "      <td>444.225031</td>\n",
              "      <td>499.616259</td>\n",
              "    </tr>\n",
              "    <tr>\n",
              "      <th>4</th>\n",
              "      <td>JER00005</td>\n",
              "      <td>35.45</td>\n",
              "      <td>31.85</td>\n",
              "      <td>-260</td>\n",
              "      <td>2.71</td>\n",
              "      <td>0.001</td>\n",
              "      <td>3.033250</td>\n",
              "      <td>3.183552</td>\n",
              "      <td>3.321843</td>\n",
              "      <td>3.387500</td>\n",
              "      <td>12.190288</td>\n",
              "      <td>17.093483</td>\n",
              "      <td>19.762506</td>\n",
              "      <td>22.451408</td>\n",
              "      <td>23.809156</td>\n",
              "    </tr>\n",
              "    <tr>\n",
              "      <th>5</th>\n",
              "      <td>BET00007</td>\n",
              "      <td>35.20</td>\n",
              "      <td>31.70</td>\n",
              "      <td>773</td>\n",
              "      <td>3.24</td>\n",
              "      <td>0.700</td>\n",
              "      <td>4.578532</td>\n",
              "      <td>5.200913</td>\n",
              "      <td>5.773558</td>\n",
              "      <td>6.045433</td>\n",
              "      <td>20.832487</td>\n",
              "      <td>58.787469</td>\n",
              "      <td>86.167795</td>\n",
              "      <td>117.879092</td>\n",
              "      <td>135.328204</td>\n",
              "    </tr>\n",
              "    <tr>\n",
              "      <th>6</th>\n",
              "      <td>HEB00008</td>\n",
              "      <td>35.10</td>\n",
              "      <td>31.53</td>\n",
              "      <td>1005</td>\n",
              "      <td>4.69</td>\n",
              "      <td>0.300</td>\n",
              "      <td>6.159387</td>\n",
              "      <td>6.842613</td>\n",
              "      <td>7.471240</td>\n",
              "      <td>7.769694</td>\n",
              "      <td>63.186547</td>\n",
              "      <td>143.126032</td>\n",
              "      <td>196.233034</td>\n",
              "      <td>255.437257</td>\n",
              "      <td>287.288194</td>\n",
              "    </tr>\n",
              "  </tbody>\n",
              "</table>\n",
              "</div>"
            ],
            "text/plain": [
              "    station    lon    lat   h_m  v_10m    z_o     v_30m     v_50m     v_80m  \\\n",
              "0  JEN00001  35.30  32.47   178   3.80  0.300  4.990548  5.544122  6.053457   \n",
              "1  TUL00002  35.02  32.32    83   3.24  0.100  4.012936  4.372331  4.703006   \n",
              "2  NAB00003  35.25  32.22   570   3.24  0.700  4.578532  5.200913  5.773558   \n",
              "3  RAM00004  35.20  31.88   856   5.64  0.300  7.407024  8.228644  8.984605   \n",
              "4  JER00005  35.45  31.85  -260   2.71  0.001  3.033250  3.183552  3.321843   \n",
              "5  BET00007  35.20  31.70   773   3.24  0.700  4.578532  5.200913  5.773558   \n",
              "6  HEB00008  35.10  31.53  1005   4.69  0.300  6.159387  6.842613  7.471240   \n",
              "\n",
              "     v_100m     pot_10m     pot_30m     pot_50m     pot_80m    pot_100m  \n",
              "0  6.295274   33.609100   76.129135  104.376897  135.867788  152.809390  \n",
              "1  4.860000   20.832487   39.581562   51.197094   63.713671   70.309644  \n",
              "2  6.045433   20.832487   58.787469   86.167795  117.879092  135.328204  \n",
              "3  9.343512  109.886263  248.907175  341.264335  444.225031  499.616259  \n",
              "4  3.387500   12.190288   17.093483   19.762506   22.451408   23.809156  \n",
              "5  6.045433   20.832487   58.787469   86.167795  117.879092  135.328204  \n",
              "6  7.769694   63.186547  143.126032  196.233034  255.437257  287.288194  "
            ]
          },
          "metadata": {
            "tags": []
          },
          "execution_count": 13
        }
      ]
    },
    {
      "metadata": {
        "id": "clrnBMnxZ-OC",
        "colab_type": "code",
        "colab": {}
      },
      "cell_type": "code",
      "source": [
        "df_plots = df_leilog[['v_10m','v_30m','v_50m','v_80m','v_100m']].T\n",
        "df_plots.columns = ['JEN','TUL','NAB','RAM', 'JER','BET','HEB']"
      ],
      "execution_count": 0,
      "outputs": []
    },
    {
      "metadata": {
        "id": "hpzcOazfb1BB",
        "colab_type": "code",
        "colab": {
          "base_uri": "https://localhost:8080/",
          "height": 204
        },
        "outputId": "64c92f61-4d9c-4d30-8902-bae24706a3a5"
      },
      "cell_type": "code",
      "source": [
        "df_plots"
      ],
      "execution_count": 15,
      "outputs": [
        {
          "output_type": "execute_result",
          "data": {
            "text/html": [
              "<div>\n",
              "<style scoped>\n",
              "    .dataframe tbody tr th:only-of-type {\n",
              "        vertical-align: middle;\n",
              "    }\n",
              "\n",
              "    .dataframe tbody tr th {\n",
              "        vertical-align: top;\n",
              "    }\n",
              "\n",
              "    .dataframe thead th {\n",
              "        text-align: right;\n",
              "    }\n",
              "</style>\n",
              "<table border=\"1\" class=\"dataframe\">\n",
              "  <thead>\n",
              "    <tr style=\"text-align: right;\">\n",
              "      <th></th>\n",
              "      <th>JEN</th>\n",
              "      <th>TUL</th>\n",
              "      <th>NAB</th>\n",
              "      <th>RAM</th>\n",
              "      <th>JER</th>\n",
              "      <th>BET</th>\n",
              "      <th>HEB</th>\n",
              "    </tr>\n",
              "  </thead>\n",
              "  <tbody>\n",
              "    <tr>\n",
              "      <th>v_10m</th>\n",
              "      <td>3.800000</td>\n",
              "      <td>3.240000</td>\n",
              "      <td>3.240000</td>\n",
              "      <td>5.640000</td>\n",
              "      <td>2.710000</td>\n",
              "      <td>3.240000</td>\n",
              "      <td>4.690000</td>\n",
              "    </tr>\n",
              "    <tr>\n",
              "      <th>v_30m</th>\n",
              "      <td>4.990548</td>\n",
              "      <td>4.012936</td>\n",
              "      <td>4.578532</td>\n",
              "      <td>7.407024</td>\n",
              "      <td>3.033250</td>\n",
              "      <td>4.578532</td>\n",
              "      <td>6.159387</td>\n",
              "    </tr>\n",
              "    <tr>\n",
              "      <th>v_50m</th>\n",
              "      <td>5.544122</td>\n",
              "      <td>4.372331</td>\n",
              "      <td>5.200913</td>\n",
              "      <td>8.228644</td>\n",
              "      <td>3.183552</td>\n",
              "      <td>5.200913</td>\n",
              "      <td>6.842613</td>\n",
              "    </tr>\n",
              "    <tr>\n",
              "      <th>v_80m</th>\n",
              "      <td>6.053457</td>\n",
              "      <td>4.703006</td>\n",
              "      <td>5.773558</td>\n",
              "      <td>8.984605</td>\n",
              "      <td>3.321843</td>\n",
              "      <td>5.773558</td>\n",
              "      <td>7.471240</td>\n",
              "    </tr>\n",
              "    <tr>\n",
              "      <th>v_100m</th>\n",
              "      <td>6.295274</td>\n",
              "      <td>4.860000</td>\n",
              "      <td>6.045433</td>\n",
              "      <td>9.343512</td>\n",
              "      <td>3.387500</td>\n",
              "      <td>6.045433</td>\n",
              "      <td>7.769694</td>\n",
              "    </tr>\n",
              "  </tbody>\n",
              "</table>\n",
              "</div>"
            ],
            "text/plain": [
              "             JEN       TUL       NAB       RAM       JER       BET       HEB\n",
              "v_10m   3.800000  3.240000  3.240000  5.640000  2.710000  3.240000  4.690000\n",
              "v_30m   4.990548  4.012936  4.578532  7.407024  3.033250  4.578532  6.159387\n",
              "v_50m   5.544122  4.372331  5.200913  8.228644  3.183552  5.200913  6.842613\n",
              "v_80m   6.053457  4.703006  5.773558  8.984605  3.321843  5.773558  7.471240\n",
              "v_100m  6.295274  4.860000  6.045433  9.343512  3.387500  6.045433  7.769694"
            ]
          },
          "metadata": {
            "tags": []
          },
          "execution_count": 15
        }
      ]
    },
    {
      "metadata": {
        "id": "Xeyg4K3NO1Io",
        "colab_type": "text"
      },
      "cell_type": "markdown",
      "source": [
        "# Visualizações"
      ]
    },
    {
      "metadata": {
        "id": "yMeMaqa0YfWS",
        "colab_type": "text"
      },
      "cell_type": "markdown",
      "source": [
        "### Perfil vertical do vento"
      ]
    },
    {
      "metadata": {
        "id": "BmLpHYSmboSI",
        "colab_type": "code",
        "colab": {
          "base_uri": "https://localhost:8080/",
          "height": 598
        },
        "outputId": "4ba016c8-b9dc-42c5-b18f-a7155e0a1842"
      },
      "cell_type": "code",
      "source": [
        "velocidades = [10,30,50,80,100]\n",
        "plt.style.use('classic')\n",
        "\n",
        "plt.figure(figsize=(15,8))\n",
        "\n",
        "plt.plot(velocidades, df_plots['JEN'], label='JEN')\n",
        "plt.plot(velocidades, df_plots['TUL'], label='TUL')\n",
        "plt.plot(velocidades, df_plots['NAB'], label='NAB')\n",
        "plt.plot(velocidades, df_plots['RAM'], label='RAM')\n",
        "plt.plot(velocidades, df_plots['JER'], label='JER')\n",
        "plt.plot(velocidades, df_plots['BET'], label='BET')\n",
        "plt.plot(velocidades, df_plots['HEB'], label='HEB')\n",
        "plt.legend()\n",
        "\n",
        "plt.xlim(10,100)\n",
        "\n",
        "plt.xlabel('Altura (m)')\n",
        "plt.ylabel('Velocidade (m/s)')\n",
        "plt.title('Perfil vertical do vento')\n",
        "\n",
        "plt.show()"
      ],
      "execution_count": 16,
      "outputs": [
        {
          "output_type": "display_data",
          "data": {
            "image/png": "[encoded data removed]",
            "text/plain": [
              "<matplotlib.figure.Figure at 0x7efcdec55e48>"
            ]
          },
          "metadata": {
            "tags": []
          }
        }
      ]
    },
    {
      "metadata": {
        "id": "mGXen939fCHp",
        "colab_type": "text"
      },
      "cell_type": "markdown",
      "source": [
        "### Densidade de potencia"
      ]
    },
    {
      "metadata": {
        "id": "op3Pl_ImfFEy",
        "colab_type": "code",
        "colab": {}
      },
      "cell_type": "code",
      "source": [
        "df_plotsPot = df_leilog[['pot_10m','pot_30m','pot_50m','pot_80m','pot_100m']].T\n",
        "df_plotsPot.columns = ['JEN','TUL','NAB','RAM', 'JER','BET','HEB']"
      ],
      "execution_count": 0,
      "outputs": []
    },
    {
      "metadata": {
        "id": "AeQz_HimfXTD",
        "colab_type": "code",
        "colab": {
          "base_uri": "https://localhost:8080/",
          "height": 204
        },
        "outputId": "adbd34e9-c855-4c13-eb46-0b3a4e63b4e3"
      },
      "cell_type": "code",
      "source": [
        "df_plotsPot"
      ],
      "execution_count": 18,
      "outputs": [
        {
          "output_type": "execute_result",
          "data": {
            "text/html": [
              "<div>\n",
              "<style scoped>\n",
              "    .dataframe tbody tr th:only-of-type {\n",
              "        vertical-align: middle;\n",
              "    }\n",
              "\n",
              "    .dataframe tbody tr th {\n",
              "        vertical-align: top;\n",
              "    }\n",
              "\n",
              "    .dataframe thead th {\n",
              "        text-align: right;\n",
              "    }\n",
              "</style>\n",
              "<table border=\"1\" class=\"dataframe\">\n",
              "  <thead>\n",
              "    <tr style=\"text-align: right;\">\n",
              "      <th></th>\n",
              "      <th>JEN</th>\n",
              "      <th>TUL</th>\n",
              "      <th>NAB</th>\n",
              "      <th>RAM</th>\n",
              "      <th>JER</th>\n",
              "      <th>BET</th>\n",
              "      <th>HEB</th>\n",
              "    </tr>\n",
              "  </thead>\n",
              "  <tbody>\n",
              "    <tr>\n",
              "      <th>pot_10m</th>\n",
              "      <td>33.609100</td>\n",
              "      <td>20.832487</td>\n",
              "      <td>20.832487</td>\n",
              "      <td>109.886263</td>\n",
              "      <td>12.190288</td>\n",
              "      <td>20.832487</td>\n",
              "      <td>63.186547</td>\n",
              "    </tr>\n",
              "    <tr>\n",
              "      <th>pot_30m</th>\n",
              "      <td>76.129135</td>\n",
              "      <td>39.581562</td>\n",
              "      <td>58.787469</td>\n",
              "      <td>248.907175</td>\n",
              "      <td>17.093483</td>\n",
              "      <td>58.787469</td>\n",
              "      <td>143.126032</td>\n",
              "    </tr>\n",
              "    <tr>\n",
              "      <th>pot_50m</th>\n",
              "      <td>104.376897</td>\n",
              "      <td>51.197094</td>\n",
              "      <td>86.167795</td>\n",
              "      <td>341.264335</td>\n",
              "      <td>19.762506</td>\n",
              "      <td>86.167795</td>\n",
              "      <td>196.233034</td>\n",
              "    </tr>\n",
              "    <tr>\n",
              "      <th>pot_80m</th>\n",
              "      <td>135.867788</td>\n",
              "      <td>63.713671</td>\n",
              "      <td>117.879092</td>\n",
              "      <td>444.225031</td>\n",
              "      <td>22.451408</td>\n",
              "      <td>117.879092</td>\n",
              "      <td>255.437257</td>\n",
              "    </tr>\n",
              "    <tr>\n",
              "      <th>pot_100m</th>\n",
              "      <td>152.809390</td>\n",
              "      <td>70.309644</td>\n",
              "      <td>135.328204</td>\n",
              "      <td>499.616259</td>\n",
              "      <td>23.809156</td>\n",
              "      <td>135.328204</td>\n",
              "      <td>287.288194</td>\n",
              "    </tr>\n",
              "  </tbody>\n",
              "</table>\n",
              "</div>"
            ],
            "text/plain": [
              "                 JEN        TUL         NAB         RAM        JER  \\\n",
              "pot_10m    33.609100  20.832487   20.832487  109.886263  12.190288   \n",
              "pot_30m    76.129135  39.581562   58.787469  248.907175  17.093483   \n",
              "pot_50m   104.376897  51.197094   86.167795  341.264335  19.762506   \n",
              "pot_80m   135.867788  63.713671  117.879092  444.225031  22.451408   \n",
              "pot_100m  152.809390  70.309644  135.328204  499.616259  23.809156   \n",
              "\n",
              "                 BET         HEB  \n",
              "pot_10m    20.832487   63.186547  \n",
              "pot_30m    58.787469  143.126032  \n",
              "pot_50m    86.167795  196.233034  \n",
              "pot_80m   117.879092  255.437257  \n",
              "pot_100m  135.328204  287.288194  "
            ]
          },
          "metadata": {
            "tags": []
          },
          "execution_count": 18
        }
      ]
    },
    {
      "metadata": {
        "id": "XRt3hwuVfRhi",
        "colab_type": "code",
        "colab": {
          "base_uri": "https://localhost:8080/",
          "height": 598
        },
        "outputId": "ed913c0e-fb8c-41c0-d6af-babff3202ab1"
      },
      "cell_type": "code",
      "source": [
        "velocidades = [10,30,50,80,100]\n",
        "plt.style.use('classic')\n",
        "\n",
        "plt.figure(figsize=(15,8))\n",
        "\n",
        "plt.plot(velocidades, df_plotsPot['JEN'], label='JEN')\n",
        "plt.plot(velocidades, df_plotsPot['TUL'], label='TUL')\n",
        "plt.plot(velocidades, df_plotsPot['NAB'], label='NAB')\n",
        "plt.plot(velocidades, df_plotsPot['RAM'], label='RAM')\n",
        "plt.plot(velocidades, df_plotsPot['JER'], label='JER')\n",
        "plt.plot(velocidades, df_plotsPot['BET'], label='BET')\n",
        "plt.plot(velocidades, df_plotsPot['HEB'], label='HEB')\n",
        "plt.legend()\n",
        "\n",
        "plt.xlim(10,100)\n",
        "\n",
        "plt.xlabel('Altura (m)')\n",
        "plt.ylabel('Potencial P/A (W/m2)')\n",
        "plt.title('Perfil vertical do vento')\n",
        "\n",
        "plt.show()"
      ],
      "execution_count": 19,
      "outputs": [
        {
          "output_type": "display_data",
          "data": {
            "image/png": "[encoded data removed]",
            "text/plain": [
              "<matplotlib.figure.Figure at 0x7efcdc32d518>"
            ]
          },
          "metadata": {
            "tags": []
          }
        }
      ]
    },
    {
      "metadata": {
        "id": "bWZEK3UBfAGe",
        "colab_type": "text"
      },
      "cell_type": "markdown",
      "source": [
        "# Mapa"
      ]
    },
    {
      "metadata": {
        "id": "2wfHHpMjwMQo",
        "colab_type": "code",
        "colab": {
          "base_uri": "https://localhost:8080/",
          "height": 289
        },
        "outputId": "a84cd4d9-07d0-4be9-8e7a-f2d639c11273"
      },
      "cell_type": "code",
      "source": [
        "!pip install folium"
      ],
      "execution_count": 20,
      "outputs": [
        {
          "output_type": "stream",
          "text": [
            "Collecting folium\n",
            "\u001b[?25l  Downloading https://files.pythonhosted.org/packages/88/89/8186c3441eb2a224d2896d9a8db6ded20ddd225f109e6144494a9893a0c1/folium-0.6.0-py3-none-any.whl (79kB)\n",
            "\u001b[K    100% |████████████████████████████████| 81kB 4.4MB/s \n",
            "\u001b[?25hRequirement already satisfied: numpy in /usr/local/lib/python3.6/dist-packages (from folium) (1.14.6)\n",
            "Requirement already satisfied: jinja2 in /usr/local/lib/python3.6/dist-packages (from folium) (2.10)\n",
            "Collecting branca>=0.3.0 (from folium)\n",
            "  Downloading https://files.pythonhosted.org/packages/b5/18/13c018655f722896f25791f1db687db5671bd79285e05b3dd8c309b36414/branca-0.3.0-py3-none-any.whl\n",
            "Requirement already satisfied: requests in /usr/local/lib/python3.6/dist-packages (from folium) (2.18.4)\n",
            "Requirement already satisfied: six in /usr/local/lib/python3.6/dist-packages (from folium) (1.11.0)\n",
            "Requirement already satisfied: MarkupSafe>=0.23 in /usr/local/lib/python3.6/dist-packages (from jinja2->folium) (1.0)\n",
            "Requirement already satisfied: idna<2.7,>=2.5 in /usr/local/lib/python3.6/dist-packages (from requests->folium) (2.6)\n",
            "Requirement already satisfied: chardet<3.1.0,>=3.0.2 in /usr/local/lib/python3.6/dist-packages (from requests->folium) (3.0.4)\n",
            "Requirement already satisfied: urllib3<1.23,>=1.21.1 in /usr/local/lib/python3.6/dist-packages (from requests->folium) (1.22)\n",
            "Requirement already satisfied: certifi>=2017.4.17 in /usr/local/lib/python3.6/dist-packages (from requests->folium) (2018.8.24)\n",
            "Installing collected packages: branca, folium\n",
            "Successfully installed branca-0.3.0 folium-0.6.0\n"
          ],
          "name": "stdout"
        }
      ]
    },
    {
      "metadata": {
        "id": "-R6In6UfwPk2",
        "colab_type": "code",
        "colab": {}
      },
      "cell_type": "code",
      "source": [
        "import folium"
      ],
      "execution_count": 0,
      "outputs": []
    },
    {
      "metadata": {
        "id": "KAAt2KvMoK6s",
        "colab_type": "code",
        "colab": {}
      },
      "cell_type": "code",
      "source": [
        "m = folium.Map(\n",
        "    location=[31.8, 35.2],\n",
        "    zoom_start=9,\n",
        "    tiles='Stamen Terrain'\n",
        ")"
      ],
      "execution_count": 0,
      "outputs": []
    },
    {
      "metadata": {
        "id": "4O7Nu2kHwf1C",
        "colab_type": "code",
        "colab": {
          "base_uri": "https://localhost:8080/",
          "height": 1071
        },
        "outputId": "752831f1-49df-41db-bcbc-9aa73fe0316a"
      },
      "cell_type": "code",
      "source": [
        "m = folium.Map(\n",
        "    location=[31.8, 35.2],\n",
        "    zoom_start=9,\n",
        "    tiles='Stamen Terrain'\n",
        ")\n",
        "\n",
        "tooltip = [' ']\n",
        "for medicao in range(len(df))[1:]:\n",
        "  tooltip.append(str(df.mean_ms[medicao])+'m/s')\n",
        "\n",
        "for medicao in range(len(df))[1:]:\n",
        "  folium.Marker([df.lat[medicao],df.lon[medicao]], popup = tooltip[medicao], tooltip=df.station_no[medicao]).add_to(m) #tooltip[medicao]\n",
        "\n",
        "#folium.Marker([45.3288, -121.6625], popup='<i>Mt. Hood Meadows</i>', tooltip=tooltip).add_to(m)\n",
        "\n",
        "m"
      ],
      "execution_count": 23,
      "outputs": [
        {
          "output_type": "execute_result",
          "data": {
            "text/html": [
              "<div style=\"width:100%;\"><div style=\"position:relative;width:100%;height:0;padding-bottom:60%;\"><iframe src=\"data:text/html;charset=utf-8;base64,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\" style=\"position:absolute;width:100%;height:100%;left:0;top:0;border:none !important;\" allowfullscreen webkitallowfullscreen mozallowfullscreen></iframe></div></div>"
            ],
            "text/plain": [
              "<folium.folium.Map at 0x7efcd9ba8358>"
            ]
          },
          "metadata": {
            "tags": []
          },
          "execution_count": 23
        }
      ]
    },
    {
      "metadata": {
        "id": "RJsXJFufztPS",
        "colab_type": "code",
        "colab": {
          "base_uri": "https://localhost:8080/",
          "height": 34
        },
        "outputId": "13e8cb71-0a56-431f-e304-f7cc443ac899"
      },
      "cell_type": "code",
      "source": [
        "folium.CircleMarker(location=[31.8, 35.2], radius=50,\n",
        "                    popup='Laurelhurst Park',\n",
        "                    fill_color='#3186cc').add_to(m)"
      ],
      "execution_count": 24,
      "outputs": [
        {
          "output_type": "execute_result",
          "data": {
            "text/plain": [
              "<folium.vector_layers.CircleMarker at 0x7efcd9badcc0>"
            ]
          },
          "metadata": {
            "tags": []
          },
          "execution_count": 24
        }
      ]
    },
    {
      "metadata": {
        "id": "tqSa9QBzhRNn",
        "colab_type": "code",
        "colab": {
          "base_uri": "https://localhost:8080/",
          "height": 266
        },
        "outputId": "b01fb730-4249-4806-8785-f4aacbc00ece"
      },
      "cell_type": "code",
      "source": [
        "df_leilog"
      ],
      "execution_count": 25,
      "outputs": [
        {
          "output_type": "execute_result",
          "data": {
            "text/html": [
              "<div>\n",
              "<style scoped>\n",
              "    .dataframe tbody tr th:only-of-type {\n",
              "        vertical-align: middle;\n",
              "    }\n",
              "\n",
              "    .dataframe tbody tr th {\n",
              "        vertical-align: top;\n",
              "    }\n",
              "\n",
              "    .dataframe thead th {\n",
              "        text-align: right;\n",
              "    }\n",
              "</style>\n",
              "<table border=\"1\" class=\"dataframe\">\n",
              "  <thead>\n",
              "    <tr style=\"text-align: right;\">\n",
              "      <th></th>\n",
              "      <th>station</th>\n",
              "      <th>lon</th>\n",
              "      <th>lat</th>\n",
              "      <th>h_m</th>\n",
              "      <th>v_10m</th>\n",
              "      <th>z_o</th>\n",
              "      <th>v_30m</th>\n",
              "      <th>v_50m</th>\n",
              "      <th>v_80m</th>\n",
              "      <th>v_100m</th>\n",
              "      <th>pot_10m</th>\n",
              "      <th>pot_30m</th>\n",
              "      <th>pot_50m</th>\n",
              "      <th>pot_80m</th>\n",
              "      <th>pot_100m</th>\n",
              "    </tr>\n",
              "  </thead>\n",
              "  <tbody>\n",
              "    <tr>\n",
              "      <th>0</th>\n",
              "      <td>JEN00001</td>\n",
              "      <td>35.30</td>\n",
              "      <td>32.47</td>\n",
              "      <td>178</td>\n",
              "      <td>3.80</td>\n",
              "      <td>0.300</td>\n",
              "      <td>4.990548</td>\n",
              "      <td>5.544122</td>\n",
              "      <td>6.053457</td>\n",
              "      <td>6.295274</td>\n",
              "      <td>33.609100</td>\n",
              "      <td>76.129135</td>\n",
              "      <td>104.376897</td>\n",
              "      <td>135.867788</td>\n",
              "      <td>152.809390</td>\n",
              "    </tr>\n",
              "    <tr>\n",
              "      <th>1</th>\n",
              "      <td>TUL00002</td>\n",
              "      <td>35.02</td>\n",
              "      <td>32.32</td>\n",
              "      <td>83</td>\n",
              "      <td>3.24</td>\n",
              "      <td>0.100</td>\n",
              "      <td>4.012936</td>\n",
              "      <td>4.372331</td>\n",
              "      <td>4.703006</td>\n",
              "      <td>4.860000</td>\n",
              "      <td>20.832487</td>\n",
              "      <td>39.581562</td>\n",
              "      <td>51.197094</td>\n",
              "      <td>63.713671</td>\n",
              "      <td>70.309644</td>\n",
              "    </tr>\n",
              "    <tr>\n",
              "      <th>2</th>\n",
              "      <td>NAB00003</td>\n",
              "      <td>35.25</td>\n",
              "      <td>32.22</td>\n",
              "      <td>570</td>\n",
              "      <td>3.24</td>\n",
              "      <td>0.700</td>\n",
              "      <td>4.578532</td>\n",
              "      <td>5.200913</td>\n",
              "      <td>5.773558</td>\n",
              "      <td>6.045433</td>\n",
              "      <td>20.832487</td>\n",
              "      <td>58.787469</td>\n",
              "      <td>86.167795</td>\n",
              "      <td>117.879092</td>\n",
              "      <td>135.328204</td>\n",
              "    </tr>\n",
              "    <tr>\n",
              "      <th>3</th>\n",
              "      <td>RAM00004</td>\n",
              "      <td>35.20</td>\n",
              "      <td>31.88</td>\n",
              "      <td>856</td>\n",
              "      <td>5.64</td>\n",
              "      <td>0.300</td>\n",
              "      <td>7.407024</td>\n",
              "      <td>8.228644</td>\n",
              "      <td>8.984605</td>\n",
              "      <td>9.343512</td>\n",
              "      <td>109.886263</td>\n",
              "      <td>248.907175</td>\n",
              "      <td>341.264335</td>\n",
              "      <td>444.225031</td>\n",
              "      <td>499.616259</td>\n",
              "    </tr>\n",
              "    <tr>\n",
              "      <th>4</th>\n",
              "      <td>JER00005</td>\n",
              "      <td>35.45</td>\n",
              "      <td>31.85</td>\n",
              "      <td>-260</td>\n",
              "      <td>2.71</td>\n",
              "      <td>0.001</td>\n",
              "      <td>3.033250</td>\n",
              "      <td>3.183552</td>\n",
              "      <td>3.321843</td>\n",
              "      <td>3.387500</td>\n",
              "      <td>12.190288</td>\n",
              "      <td>17.093483</td>\n",
              "      <td>19.762506</td>\n",
              "      <td>22.451408</td>\n",
              "      <td>23.809156</td>\n",
              "    </tr>\n",
              "    <tr>\n",
              "      <th>5</th>\n",
              "      <td>BET00007</td>\n",
              "      <td>35.20</td>\n",
              "      <td>31.70</td>\n",
              "      <td>773</td>\n",
              "      <td>3.24</td>\n",
              "      <td>0.700</td>\n",
              "      <td>4.578532</td>\n",
              "      <td>5.200913</td>\n",
              "      <td>5.773558</td>\n",
              "      <td>6.045433</td>\n",
              "      <td>20.832487</td>\n",
              "      <td>58.787469</td>\n",
              "      <td>86.167795</td>\n",
              "      <td>117.879092</td>\n",
              "      <td>135.328204</td>\n",
              "    </tr>\n",
              "    <tr>\n",
              "      <th>6</th>\n",
              "      <td>HEB00008</td>\n",
              "      <td>35.10</td>\n",
              "      <td>31.53</td>\n",
              "      <td>1005</td>\n",
              "      <td>4.69</td>\n",
              "      <td>0.300</td>\n",
              "      <td>6.159387</td>\n",
              "      <td>6.842613</td>\n",
              "      <td>7.471240</td>\n",
              "      <td>7.769694</td>\n",
              "      <td>63.186547</td>\n",
              "      <td>143.126032</td>\n",
              "      <td>196.233034</td>\n",
              "      <td>255.437257</td>\n",
              "      <td>287.288194</td>\n",
              "    </tr>\n",
              "  </tbody>\n",
              "</table>\n",
              "</div>"
            ],
            "text/plain": [
              "    station    lon    lat   h_m  v_10m    z_o     v_30m     v_50m     v_80m  \\\n",
              "0  JEN00001  35.30  32.47   178   3.80  0.300  4.990548  5.544122  6.053457   \n",
              "1  TUL00002  35.02  32.32    83   3.24  0.100  4.012936  4.372331  4.703006   \n",
              "2  NAB00003  35.25  32.22   570   3.24  0.700  4.578532  5.200913  5.773558   \n",
              "3  RAM00004  35.20  31.88   856   5.64  0.300  7.407024  8.228644  8.984605   \n",
              "4  JER00005  35.45  31.85  -260   2.71  0.001  3.033250  3.183552  3.321843   \n",
              "5  BET00007  35.20  31.70   773   3.24  0.700  4.578532  5.200913  5.773558   \n",
              "6  HEB00008  35.10  31.53  1005   4.69  0.300  6.159387  6.842613  7.471240   \n",
              "\n",
              "     v_100m     pot_10m     pot_30m     pot_50m     pot_80m    pot_100m  \n",
              "0  6.295274   33.609100   76.129135  104.376897  135.867788  152.809390  \n",
              "1  4.860000   20.832487   39.581562   51.197094   63.713671   70.309644  \n",
              "2  6.045433   20.832487   58.787469   86.167795  117.879092  135.328204  \n",
              "3  9.343512  109.886263  248.907175  341.264335  444.225031  499.616259  \n",
              "4  3.387500   12.190288   17.093483   19.762506   22.451408   23.809156  \n",
              "5  6.045433   20.832487   58.787469   86.167795  117.879092  135.328204  \n",
              "6  7.769694   63.186547  143.126032  196.233034  255.437257  287.288194  "
            ]
          },
          "metadata": {
            "tags": []
          },
          "execution_count": 25
        }
      ]
    },
    {
      "metadata": {
        "id": "gL0MmLhYEQDf",
        "colab_type": "code",
        "colab": {}
      },
      "cell_type": "code",
      "source": [
        "from folium import FeatureGroup"
      ],
      "execution_count": 0,
      "outputs": []
    },
    {
      "metadata": {
        "id": "8Zu7WdO7hNaE",
        "colab_type": "code",
        "colab": {
          "base_uri": "https://localhost:8080/",
          "height": 1071
        },
        "outputId": "8f8159d4-904b-4894-8322-bf29f52650d0"
      },
      "cell_type": "code",
      "source": [
        "m = folium.Map(\n",
        "    location=[31.8, 35.2],\n",
        "    zoom_start=9,\n",
        "    tiles='Stamen Terrain'\n",
        ")\n",
        "\n",
        "\n",
        "feature_group = FeatureGroup(name='Potencial 100m')\n",
        "\n",
        "for medicao in range(len(df_leilog)):\n",
        "  feature_group.add_child(folium.CircleMarker(location=[df_leilog.lat[medicao],df_leilog.lon[medicao]], \n",
        "                    radius=df_leilog.pot_100m[medicao]/10,\n",
        "                    tooltip=str(\"{0:.2f}\".format(round(df_leilog.pot_100m[medicao],2)))+'W/m2',\n",
        "                    fill_color='#3186cc'))\n",
        "  \n",
        "m.add_child(feature_group)\n",
        "\n",
        "feature_group2 = FeatureGroup(name='Estações')\n",
        "\n",
        "tooltip = [' ']\n",
        "for medicao in range(len(df))[1:]:\n",
        "  tooltip.append(str(df.mean_ms[medicao])+'m/s')\n",
        "\n",
        "for medicao in range(len(df))[1:]:\n",
        "  feature_group2.add_child(folium.Marker([df.lat[medicao],df.lon[medicao]], popup = tooltip[medicao], tooltip=df.station_no[medicao])) #tooltip[medicao]\n",
        "  \n",
        "m.add_child(feature_group2)\n",
        "m.add_child(folium.map.LayerControl())\n",
        "#folium.LayerControl().add_to(m)\n",
        "m"
      ],
      "execution_count": 27,
      "outputs": [
        {
          "output_type": "execute_result",
          "data": {
            "text/html": [
              "<div style=\"width:100%;\"><div style=\"position:relative;width:100%;height:0;padding-bottom:60%;\"><iframe src=\"data:text/html;charset=utf-8;base64,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\" style=\"position:absolute;width:100%;height:100%;left:0;top:0;border:none !important;\" allowfullscreen webkitallowfullscreen mozallowfullscreen></iframe></div></div>"
            ],
            "text/plain": [
              "<folium.folium.Map at 0x7efcd9b2e358>"
            ]
          },
          "metadata": {
            "tags": []
          },
          "execution_count": 27
        }
      ]
    },
    {
      "metadata": {
        "id": "YnVrNS9dDpXI",
        "colab_type": "code",
        "colab": {}
      },
      "cell_type": "code",
      "source": [
        ""
      ],
      "execution_count": 0,
      "outputs": []
    }
  ]
}